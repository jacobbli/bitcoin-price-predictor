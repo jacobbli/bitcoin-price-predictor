{
 "metadata": {
  "language_info": {
   "codemirror_mode": {
    "name": "ipython",
    "version": 3
   },
   "file_extension": ".py",
   "mimetype": "text/x-python",
   "name": "python",
   "nbconvert_exporter": "python",
   "pygments_lexer": "ipython3",
   "version": "3.8.10"
  },
  "orig_nbformat": 4,
  "kernelspec": {
   "name": "python3",
   "display_name": "Python 3.8.10 64-bit ('gp_env': venv)"
  },
  "interpreter": {
   "hash": "97db42803fcebb1c54788cb8eb690d6a415f39d32f595e24dbe1c0683e9170ed"
  }
 },
 "nbformat": 4,
 "nbformat_minor": 2,
 "cells": [
  {
   "cell_type": "markdown",
   "source": [
    "# 1.3 Process Reddit Dataset\r\n",
    "\r\n",
    "This is the third part of our complete workflow. We take the aggregate sum of the positive and negative emotion scores while grouping by date.\r\n",
    "\r\n",
    "At the end of the workflow, the dataset will contain the following columns:\r\n",
    "- Date\r\n",
    "- is_profitable\r\n",
    "- close-low\r\n",
    "- close-high\r\n",
    "- SMA-close\r\n",
    "- EMA-close\r\n",
    "- EMA_diff\r\n",
    "- SMA_diff\r\n",
    "- pos_emo\r\n",
    "- neg_emo"
   ],
   "metadata": {}
  },
  {
   "cell_type": "code",
   "execution_count": null,
   "source": [
    "# !pip install pandas"
   ],
   "outputs": [],
   "metadata": {}
  },
  {
   "cell_type": "code",
   "execution_count": 10,
   "source": [
    "import pandas as pd"
   ],
   "outputs": [],
   "metadata": {}
  },
  {
   "cell_type": "markdown",
   "source": [
    "## Import datasets"
   ],
   "metadata": {}
  },
  {
   "cell_type": "code",
   "execution_count": 11,
   "source": [
    "prices_df = pd.read_csv('../generated-datasets/classification-dataset.csv', index_col=0)\r\n",
    "reddit_df = pd.read_csv('../original-datasets/RedditCrypto-2017.csv', header=0, usecols=['Source (E)', 'posemo', 'negemo'])\r\n",
    "reddit_df = reddit_df.rename(columns={'Source (E)':'timestamp', 'posemo': 'pos_emo', 'negemo': 'neg_emo'})"
   ],
   "outputs": [],
   "metadata": {}
  },
  {
   "cell_type": "markdown",
   "source": [
    "## Process data for classification tasks"
   ],
   "metadata": {}
  },
  {
   "cell_type": "markdown",
   "source": [
    "### Convert date column"
   ],
   "metadata": {}
  },
  {
   "cell_type": "code",
   "execution_count": 12,
   "source": [
    "reddit_df['timestamp'] = pd.to_datetime(reddit_df['timestamp'])\r\n",
    "reddit_df['date'] = reddit_df['timestamp'].dt.date"
   ],
   "outputs": [],
   "metadata": {}
  },
  {
   "cell_type": "markdown",
   "source": [
    "### Aggregate sum on date column"
   ],
   "metadata": {}
  },
  {
   "cell_type": "code",
   "execution_count": 13,
   "source": [
    "reddit_df = reddit_df.groupby(['date'], as_index=False).sum()\r\n",
    "reddit_df['date'] = pd.to_datetime(reddit_df['date'])"
   ],
   "outputs": [],
   "metadata": {}
  },
  {
   "cell_type": "markdown",
   "source": [
    "### Combine reddit dataframe and historical prices dataframe"
   ],
   "metadata": {}
  },
  {
   "cell_type": "code",
   "execution_count": 14,
   "source": [
    "reddit_df['date'] = pd.to_datetime(reddit_df['date'])\r\n",
    "prices_df['Date'] = pd.to_datetime(prices_df['Date'])\r\n",
    "\r\n",
    "combined_df = prices_df.merge(reddit_df, left_on='Date', right_on='date')\r\n",
    "combined_df.drop('date', axis=1, inplace=True)"
   ],
   "outputs": [],
   "metadata": {}
  },
  {
   "cell_type": "markdown",
   "source": [
    "## Export datasets to csv"
   ],
   "metadata": {}
  },
  {
   "cell_type": "code",
   "execution_count": 16,
   "source": [
    "combined_df.to_csv('../generated-datasets/classification-dataset-with-emotion-scores.csv')"
   ],
   "outputs": [],
   "metadata": {}
  }
 ]
}