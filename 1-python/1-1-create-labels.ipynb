{
 "metadata": {
  "language_info": {
   "codemirror_mode": {
    "name": "ipython",
    "version": 3
   },
   "file_extension": ".py",
   "mimetype": "text/x-python",
   "name": "python",
   "nbconvert_exporter": "python",
   "pygments_lexer": "ipython3",
   "version": "3.8.10"
  },
  "orig_nbformat": 4,
  "kernelspec": {
   "name": "python3",
   "display_name": "Python 3.8.10 64-bit ('test_env': venv)"
  },
  "interpreter": {
   "hash": "207a1d4264d7b30b581ef8e9e1fab3771fe2b2daf687a49f3b6a80360b97736a"
  }
 },
 "nbformat": 4,
 "nbformat_minor": 2,
 "cells": [
  {
   "cell_type": "markdown",
   "source": [
    "# 1.1 Create Labels\r\n",
    "\r\n",
    "This is the first part of our complete workflow. Labels are created for the Bitcoin historical prices dataset.\r\n",
    "\r\n",
    "At the end of the workflow, the dataset will contain the following columns:\r\n",
    "- Date\r\n",
    "- Open\r\n",
    "- High\r\n",
    "- Low\r\n",
    "- Close\r\n",
    "- Volume\r\n",
    "- Market Cap\r\n",
    "- is_profitable\r\n"
   ],
   "metadata": {}
  },
  {
   "cell_type": "code",
   "execution_count": 1,
   "source": [
    "# !pip install pandas"
   ],
   "outputs": [],
   "metadata": {}
  },
  {
   "cell_type": "code",
   "execution_count": 2,
   "source": [
    "import pandas as pd"
   ],
   "outputs": [],
   "metadata": {}
  },
  {
   "cell_type": "code",
   "execution_count": 3,
   "source": [
    "def is_profitable(row, threshold):\r\n",
    "    if row['next_close'] >= (row['Close']*(threshold)):\r\n",
    "        row['is_profitable'] = 'PROFITABLE'\r\n",
    "    else:\r\n",
    "        row['is_profitable'] = \"UNPROFITABLE\"\r\n",
    "    return row"
   ],
   "outputs": [],
   "metadata": {}
  },
  {
   "cell_type": "code",
   "execution_count": 4,
   "source": [
    "profitable_threshold = 1.02"
   ],
   "outputs": [],
   "metadata": {}
  },
  {
   "cell_type": "markdown",
   "source": [
    "## Import datasets"
   ],
   "metadata": {}
  },
  {
   "cell_type": "code",
   "execution_count": 5,
   "source": [
    "df = pd.read_csv('../original-datasets/bitcoin.csv')"
   ],
   "outputs": [],
   "metadata": {}
  },
  {
   "cell_type": "markdown",
   "source": [
    "## Process data for classification tasks"
   ],
   "metadata": {}
  },
  {
   "cell_type": "markdown",
   "source": [
    "### Prepare historical prices dataset"
   ],
   "metadata": {}
  },
  {
   "cell_type": "code",
   "execution_count": 6,
   "source": [
    "df['Date'] = pd.to_datetime(df['Date'])\r\n",
    "df.sort_values(by='Date', inplace=True)\r\n",
    "df = df.reset_index(drop=True)"
   ],
   "outputs": [],
   "metadata": {}
  },
  {
   "cell_type": "markdown",
   "source": [
    "### Generate labels for each sample"
   ],
   "metadata": {}
  },
  {
   "cell_type": "code",
   "execution_count": 7,
   "source": [
    "df['next_close'] = df['Close'].shift(-1)\r\n",
    "df = df.apply(is_profitable, axis=1, threshold=profitable_threshold)\r\n",
    "df.drop('next_close', axis=1, inplace=True)"
   ],
   "outputs": [],
   "metadata": {}
  },
  {
   "cell_type": "markdown",
   "source": [
    "## Export datasets to csv"
   ],
   "metadata": {}
  },
  {
   "cell_type": "code",
   "execution_count": 8,
   "source": [
    "df.to_csv('../generated-datasets/classification-dataset.csv')"
   ],
   "outputs": [],
   "metadata": {}
  }
 ]
}