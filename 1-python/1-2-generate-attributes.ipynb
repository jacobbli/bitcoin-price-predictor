{
 "metadata": {
  "language_info": {
   "codemirror_mode": {
    "name": "ipython",
    "version": 3
   },
   "file_extension": ".py",
   "mimetype": "text/x-python",
   "name": "python",
   "nbconvert_exporter": "python",
   "pygments_lexer": "ipython3",
   "version": "3.8.10"
  },
  "orig_nbformat": 4,
  "kernelspec": {
   "name": "python3",
   "display_name": "Python 3.8.10 64-bit ('gp_env': venv)"
  },
  "interpreter": {
   "hash": "97db42803fcebb1c54788cb8eb690d6a415f39d32f595e24dbe1c0683e9170ed"
  }
 },
 "nbformat": 4,
 "nbformat_minor": 2,
 "cells": [
  {
   "cell_type": "markdown",
   "source": [
    "# 1.2 Generate Attributes\r\n",
    "\r\n",
    "This is the second part of our complete workflow. We generate 6 attributes that will be used to train our classification models.\r\n",
    "\r\n",
    "At the end of the workflow, the dataset will contain the following columns:\r\n",
    "- Date\r\n",
    "- is_profitable\r\n",
    "- close-low\r\n",
    "- close-high\r\n",
    "- SMA-close\r\n",
    "- EMA-close\r\n",
    "- EMA_diff\r\n",
    "- SMA_diff"
   ],
   "metadata": {}
  },
  {
   "cell_type": "code",
   "execution_count": null,
   "source": [
    "# !pip install pandas"
   ],
   "outputs": [],
   "metadata": {}
  },
  {
   "cell_type": "code",
   "execution_count": 1,
   "source": [
    "import pandas as pd"
   ],
   "outputs": [],
   "metadata": {}
  },
  {
   "cell_type": "markdown",
   "source": [
    "## Set parameters:\n"
   ],
   "metadata": {}
  },
  {
   "cell_type": "code",
   "execution_count": 2,
   "source": [
    "sma_range = 10\r\n",
    "ema_range = 10\r\n",
    "ema_smoothing = 2"
   ],
   "outputs": [],
   "metadata": {}
  },
  {
   "cell_type": "markdown",
   "source": [
    "## Import datasets"
   ],
   "metadata": {}
  },
  {
   "cell_type": "code",
   "execution_count": 3,
   "source": [
    "df = pd.read_csv('../generated-datasets/classification-dataset.csv', index_col=0)"
   ],
   "outputs": [],
   "metadata": {}
  },
  {
   "cell_type": "markdown",
   "source": [
    "## Process data for classification tasks"
   ],
   "metadata": {}
  },
  {
   "cell_type": "markdown",
   "source": [
    "### Calculate simple moving average"
   ],
   "metadata": {}
  },
  {
   "cell_type": "code",
   "execution_count": 4,
   "source": [
    "df['SMA'] = df['Close'].rolling(sma_range).mean()"
   ],
   "outputs": [],
   "metadata": {
    "tags": []
   }
  },
  {
   "cell_type": "markdown",
   "source": [
    "### Calculate exponential moving average"
   ],
   "metadata": {}
  },
  {
   "cell_type": "code",
   "execution_count": 5,
   "source": [
    "df['EMA'] = df['Close']\r\n",
    "df.loc[ema_range-1, 'EMA'] = (df.iloc[ema_range-1])['SMA']\r\n",
    "df['EMA'] = df.iloc[9:,9].ewm(span=ema_range,adjust=False).mean()"
   ],
   "outputs": [],
   "metadata": {}
  },
  {
   "cell_type": "markdown",
   "source": [
    "### Calulate intraday price differences"
   ],
   "metadata": {}
  },
  {
   "cell_type": "code",
   "execution_count": 6,
   "source": [
    "df['close-low'] = df.apply(lambda x: x['Close']-x['Low'], axis=1)\r\n",
    "df['close-high'] = df.apply(lambda x: x['Close']-x['High'], axis=1)\r\n",
    "df['SMA-close'] = df.apply(lambda x: x['SMA']-x['Close'], axis=1)\r\n",
    "df['EMA-close'] = df.apply(lambda x: x['EMA']-x['Close'], axis=1)\r\n"
   ],
   "outputs": [],
   "metadata": {}
  },
  {
   "cell_type": "code",
   "execution_count": 7,
   "source": [
    "df['prev_EMA'] = df['EMA'].shift(1)\r\n",
    "df['EMA_diff'] = df['EMA'] - df['prev_EMA']\r\n",
    "df.drop('prev_EMA', axis=1, inplace=True)"
   ],
   "outputs": [],
   "metadata": {}
  },
  {
   "cell_type": "code",
   "execution_count": 8,
   "source": [
    "df['prev_SMA'] = df['SMA'].shift(1)\r\n",
    "df['SMA_diff'] = df['SMA'] - df['prev_SMA']\r\n",
    "df.drop('prev_SMA', axis=1, inplace=True)"
   ],
   "outputs": [],
   "metadata": {}
  },
  {
   "cell_type": "markdown",
   "source": [
    "### Remove tuples with NA values"
   ],
   "metadata": {}
  },
  {
   "cell_type": "code",
   "execution_count": 9,
   "source": [
    "df.dropna(inplace=True)"
   ],
   "outputs": [],
   "metadata": {}
  },
  {
   "cell_type": "markdown",
   "source": [
    "### Drop unused columns"
   ],
   "metadata": {}
  },
  {
   "cell_type": "code",
   "execution_count": 11,
   "source": [
    "df.drop(['Open','High','Low','Close','Volume','Market Cap', 'SMA', 'EMA'], axis=1, inplace=True)"
   ],
   "outputs": [],
   "metadata": {}
  },
  {
   "cell_type": "markdown",
   "source": [
    "## Export datasets to csv"
   ],
   "metadata": {}
  },
  {
   "cell_type": "code",
   "execution_count": 12,
   "source": [
    "df.to_csv('../generated-datasets/classification-dataset.csv')"
   ],
   "outputs": [],
   "metadata": {}
  }
 ]
}